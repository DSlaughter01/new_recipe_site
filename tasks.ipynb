{
 "cells": [
  {
   "cell_type": "markdown",
   "metadata": {},
   "source": [
    "## Next features to add or change\n",
    "\n",
    "### General styling\n",
    "- Ad alerts at the bottom\n",
    "\n",
    "### Pages\n",
    "- Homepage - which is also the recipe page\n",
    "    - with searches\n",
    "\n",
    "### Expandable menu\n",
    "- Close menu after clicking on \"recipes\"\n",
    "\n",
    "### Add ingredients button\n",
    "- Change the button to check the quantity, and add the right quantity to existing items\n",
    "    - Will need to store ingredients in an array, of objects?\n",
    "    - How do we deal with grams/units, etc?\n",
    "- Find a way to close the alert after 3 seconds with a fade out\n",
    "\n",
    "### Search bars \n",
    "- Assign attributes to recipes\n",
    "    - Categories: by time, by type\n",
    "    - By time: 1 to 3\n",
    "    - By type: Vegan, vegetarian, gluten-free\n",
    "\n",
    "### Recipes\n",
    "- Add tomato risotto to list"
   ]
  }
 ],
 "metadata": {
  "language_info": {
   "name": "python"
  }
 },
 "nbformat": 4,
 "nbformat_minor": 2
}
