{
 "cells": [
  {
   "cell_type": "markdown",
   "metadata": {},
   "source": [
    "## Next features to add or change\n",
    "\n",
    "### General styling\n",
    "- Pick a background color\n",
    "- Pick a font\n",
    "- Design the header\n",
    "- All alerts at the bottom\n",
    "\n",
    "### Pages\n",
    "- Homepage - which is also the recipe page\n",
    "    - with searches\n",
    "    - a grid with recipe pictures which move or focus as you hover \n",
    "\n",
    "### Expandable menu\n",
    "- Get this to open, and reveal 3 options:\n",
    "    - About\n",
    "    - Recipes\n",
    "    - Contact\n",
    "\n",
    "### Add ingredients button\n",
    "- Change the button to check the quantity, and add the right quantity to existing items\n",
    "    - Will need to store ingredients in an array, of objects?\n",
    "    - How do we deal with grams/units, etc?\n",
    "\n",
    "### Search bars \n",
    "    - Assign attributes to recipes\n",
    "        - Categories: by time, by type\n",
    "        - By time: 1 to 3\n",
    "        - By type: Vegan, vegetarian, gluten-free"
   ]
  }
 ],
 "metadata": {
  "language_info": {
   "name": "python"
  }
 },
 "nbformat": 4,
 "nbformat_minor": 2
}
