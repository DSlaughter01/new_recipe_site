{
 "cells": [
  {
   "cell_type": "markdown",
   "metadata": {},
   "source": [
    "## Next features to add or change\n",
    "\n",
    "### Add ingredients button\n",
    "- Change the button to check the quantity, and add the right quantity to existing items\n",
    "    - Will need to store ingredients in an array, of objects?\n",
    "    - How do we deal with grams/units, etc?\n",
    "- The shopping list resets each time we do this. How can I make it so that the effect is cumulative?\n",
    "\n",
    "### Expandable menu\n",
    "- Add a menu item\n",
    "- Use CSS to style this so that it sticks to the top right corner\n",
    "- Get this to open, and reveal 3 options:\n",
    "    - About\n",
    "    - Recipe Search\n",
    "    - Contact\n",
    "\n",
    "### Recipe search\n",
    "- On a separate page\n",
    "\n",
    "### Assign attributes to recipes\n",
    "\n",
    "### Footer\n",
    "\n",
    "### CSS/Bootstrap\n",
    "- Change the alert when the button is pushed to something more aesthetically pleasing\n",
    "- "
   ]
  }
 ],
 "metadata": {
  "language_info": {
   "name": "python"
  }
 },
 "nbformat": 4,
 "nbformat_minor": 2
}
