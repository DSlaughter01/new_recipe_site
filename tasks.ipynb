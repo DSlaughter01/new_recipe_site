{
 "cells": [
  {
   "cell_type": "markdown",
   "metadata": {},
   "source": [
    "## Next features to add or change\n",
    "\n",
    "### Add ingredients button\n",
    "- Note: Adding ingredients to another page may require .localStorage or .sessionStorage\n",
    "- Change the button to give the user a message \"Ingredients added!\"\n",
    "- Change the button to give a warning \"Ingredients already added! Do you want to add them again?\"\n",
    "- Change the recipe items to checked items\n",
    "- Change the button to only add checked items\n",
    "- Change the button to check the quantity, and add the right quantity to existing items\n",
    "    - Will need to store ingredients in an array, of objects?\n",
    "    - How do we deal with grams/units, etc?\n",
    "\n",
    "### Expandable menu\n",
    "- Add a menu item\n",
    "- Use CSS to style this so that it sticks to the top right corner\n",
    "- Get this to open, and reveal 3 options:\n",
    "    - About\n",
    "    - Recipe Search\n",
    "    - Contact\n",
    "\n",
    "### Recipe search\n",
    "- On a separate page\n",
    "\n",
    "### Assign attributes to recipes\n",
    "\n",
    "### Footer"
   ]
  }
 ],
 "metadata": {
  "language_info": {
   "name": "python"
  }
 },
 "nbformat": 4,
 "nbformat_minor": 2
}
